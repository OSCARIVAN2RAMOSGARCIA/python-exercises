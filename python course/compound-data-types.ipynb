{
 "cells": [
  {
   "cell_type": "markdown",
   "metadata": {},
   "source": [
    "*List*"
   ]
  },
  {
   "cell_type": "code",
   "execution_count": 3,
   "metadata": {},
   "outputs": [
    {
     "name": "stdout",
     "output_type": "stream",
     "text": [
      "True\n"
     ]
    }
   ],
   "source": [
    "list1=[\"Lucas\",\"Oscar\",True]\n",
    "\n",
    "print(list1[2])"
   ]
  },
  {
   "cell_type": "markdown",
   "metadata": {},
   "source": [
    "*Tupla*"
   ]
  },
  {
   "cell_type": "code",
   "execution_count": 3,
   "metadata": {},
   "outputs": [],
   "source": [
    "import time\n",
    "import numpy as np\n",
    "import sys\n",
    "#print a letter with delay \n",
    "def print_whith_delay(s):\n",
    "    for c in s:\n",
    "        sys.stdout.write(c)\n",
    "        sys.stdout.flush()\n",
    "        time.sleep(0.05)\n",
    "#create a pokemon class\n",
    "class Pokemon:\n",
    "    def __init__(self,name,type,moves,evolutions,points_of_health='================'):\n",
    "        #saves a variables as atributtes\n",
    "        self.name= name\n",
    "        self.type=type\n",
    "        self.moves=moves\n",
    "        self.attack=evolutions['attack']\n",
    "        self.defense=evolutions['defense']\n",
    "        self.points_of_health=points_of_health\n",
    "        self.bar=20 # amount of points_of_health\n",
    "    \n",
    "    def print_Info(self,pokemon2):\n",
    "        #print battle information\n",
    "        print(\"--------Battle Pokemon--------\")\n",
    "        print(f\"\\n{self.name}\")\n",
    "        print(\"type/\",self.type)\n",
    "        print(\"attack/\",self.attack)\n",
    "        print(\"defense/\",self.defense)\n",
    "        print(\"Nv./\", 3*(1*np.mean([self.attack,self.defense])))\n",
    "        \n",
    "        print(f\"\\n{pokemon2.name}\")\n",
    "        print(\"type/\",pokemon2.type)\n",
    "        print(\"attack/\",pokemon2.attack)\n",
    "        print(\"defense/\",pokemon2.defense)\n",
    "        print(\"Nv./\", 3*(1*np.mean([pokemon2.attack,pokemon2.defense])))\n",
    "        \n",
    "    def advantage(self,pokemon2):\n",
    "        version = ['fire','water','grass']\n",
    "        \n",
    "        for i,k in enumerate(version):\n",
    "            if self.type == k:\n",
    "                #they are the SAME type\n",
    "                if pokemon2.type == k:\n",
    "                    string_1_attack=\"\\nIt isn't very effective...\"\n",
    "                    string_2_attack=\"\\nIt isn't very effective...\"\n",
    "                #pokemon2 is STRONG\n",
    "                if pokemon2.type == version[(i+1)%3]:\n",
    "                    pokemon2.attack*=2\n",
    "                    pokemon2.defense*=2\n",
    "                    self.attack/=2\n",
    "                    self.defense/=2\n",
    "                    \n",
    "                    string_1_attack=\"\\nIt isn't very effective...\"\n",
    "                    string_2_attack=\"\\nIt's very effective...\"\n",
    "                    \n",
    "                #pokemon2 is WEAK\n",
    "                if pokemon2.type == version[(i+2)%3]:\n",
    "                    self.attack*=2\n",
    "                    self.defense*=2\n",
    "                    pokemon2.attack/=2\n",
    "                    pokemon2.defense/=2\n",
    "                    \n",
    "                    string_1_attack=\"\\nIt isn't very effective...\"\n",
    "                    string_2_attack=\"\\nIt's very effective...\"\n",
    "            return string_1_attack, string_2_attack\n",
    "    \n",
    "    def turn(self,pokemon2,string_1_attack, string_2_attack):\n",
    "        #pokemon1 wiil start, choose attack and calculate the new health points\n",
    "        #continue with the same process util the  health points will be 0\n",
    "        #UPDATE data         \n",
    "        while(self.bar>0) and (pokemon2.bar>0):\n",
    "            #Print the health points of each Pokémon\n",
    "            print(f\"\\n{self.name}\\t\\tPS\\t{self.points_of_health}\") \n",
    "\n",
    "            print(f\"GO {self.name}!\")\n",
    "            for i,x in enumerate(self.moves):\n",
    "                print(f\"{i+1}.\", x)\n",
    "            index=int(input(\"Choose a move: \"))\n",
    "            print_whith_delay(f\"\\n{self.name} uso {self.moves[index-1]}\")\n",
    "            time.sleep(1)\n",
    "            print_whith_delay(string_1_attack)\n",
    "            \n",
    "            \n",
    "            #DETERMINE THE DAMAGE\n",
    "            pokemon2.bar-=self.attack\n",
    "            pokemon2.points_of_health=\"\"\n",
    "            \n",
    "            #add aditionals bar defense\n",
    "            for j in range(int(pokemon2.bar+.1*pokemon2.defense)):\n",
    "                 pokemon2.points_of_health+=\"=\"\n",
    "            time.sleep(1)\n",
    "            print(f\"\\n{self.name}\\t\\tPS\\t{self.points_of_health}\") \n",
    "            print(f\"\\n{pokemon2.name}\\t\\tPS\\t{pokemon2.points_of_health}\") \n",
    "            time.sleep(.5)\n",
    "            \n",
    "            #verify damage\n",
    "            if self.bar<=0:\n",
    "                print_whith_delay(\"\\n...\"+self.name+ 'is weakened')\n",
    "                break\n",
    "            \n",
    "        def battle(self,pokemon2):\n",
    "            #print battle information \n",
    "            self.print_Info(pokemon2)\n",
    "            #consider type information\n",
    "            string_1_attack,string_2_attack = self.advantage(pokemon2)\n",
    "            \n",
    "            #\"Take action!\"\n",
    "            #CONTINUE BATTLE WHILE THE POKEMON HAS POINT OF HEALTH\n",
    "            self.turn(pokemon2,string_1_attack,string_2_attack)\n",
    "            \n",
    "            #Receice a trophie\n",
    "            money=np.random.choice(5000)\n",
    "            print_whith_delay(f\"\\nThe opponent receive {money} as a trophie\")\n",
    "            \n",
    "        \n",
    "            \n",
    "            \n",
    "            \n",
    "                    "
   ]
  },
  {
   "cell_type": "markdown",
   "metadata": {},
   "source": [
    "Note:\n",
    "*Tuple cannot be modified but the list can be modified*"
   ]
  }
 ],
 "metadata": {
  "kernelspec": {
   "display_name": "Python 3",
   "language": "python",
   "name": "python3"
  },
  "language_info": {
   "codemirror_mode": {
    "name": "ipython",
    "version": 3
   },
   "file_extension": ".py",
   "mimetype": "text/x-python",
   "name": "python",
   "nbconvert_exporter": "python",
   "pygments_lexer": "ipython3",
   "version": "3.12.0"
  }
 },
 "nbformat": 4,
 "nbformat_minor": 2
}
