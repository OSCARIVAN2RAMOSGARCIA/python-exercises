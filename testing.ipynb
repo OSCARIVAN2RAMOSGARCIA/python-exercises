{
 "cells": [
  {
   "cell_type": "code",
   "execution_count": 1,
   "metadata": {},
   "outputs": [
    {
     "name": "stdout",
     "output_type": "stream",
     "text": [
      "hello from test\n"
     ]
    }
   ],
   "source": [
    "print(\"hello from test\")"
   ]
  },
  {
   "cell_type": "code",
   "execution_count": 2,
   "metadata": {},
   "outputs": [
    {
     "name": "stdout",
     "output_type": "stream",
     "text": [
      "Repetidos: 2\n"
     ]
    }
   ],
   "source": [
    "# Dada una palabra buscarla en una frase y devolver cuantas veces aparece\n",
    "frase=\"En, la escuela enseñan en 2 pies\"\n",
    "frase=frase.lower().replace(\",\",\" \")\n",
    "\n",
    "word=\"EN\"\n",
    "word=word.lower()\n",
    "\n",
    "def buscador(frase,word):\n",
    "    repetidas=0\n",
    "    listWords=frase.split(\" \")\n",
    "\n",
    "    for i in listWords:\n",
    "        if i == word:\n",
    "             repetidas=repetidas+1\n",
    "\n",
    "    if repetidas==0:\n",
    "        print(\"No se encuentra en la frase\")\n",
    "    #return repetidas\n",
    "    else:\n",
    "        print(\"Repetidos:\",repetidas)\n",
    "\n",
    "buscador(frase,word)"
   ]
  }
 ],
 "metadata": {
  "kernelspec": {
   "display_name": "Python 3",
   "language": "python",
   "name": "python3"
  },
  "language_info": {
   "codemirror_mode": {
    "name": "ipython",
    "version": 3
   },
   "file_extension": ".py",
   "mimetype": "text/x-python",
   "name": "python",
   "nbconvert_exporter": "python",
   "pygments_lexer": "ipython3",
   "version": "3.9.13"
  },
  "orig_nbformat": 4,
  "vscode": {
   "interpreter": {
    "hash": "a00094f430d4e0bf31d8bcd1818e632624f2ff7a6dccccbf63d2a36832140da3"
   }
  }
 },
 "nbformat": 4,
 "nbformat_minor": 2
}
